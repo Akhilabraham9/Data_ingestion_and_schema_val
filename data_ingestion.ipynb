{
 "cells": [
  {
   "cell_type": "code",
   "execution_count": 1,
   "metadata": {
    "_cell_guid": "b1076dfc-b9ad-4769-8c92-a6c4dae69d19",
    "_uuid": "8f2839f25d086af736a60e9eeb907d3b93b6e0e5",
    "execution": {
     "iopub.execute_input": "2023-06-12T13:36:08.981672Z",
     "iopub.status.busy": "2023-06-12T13:36:08.980409Z",
     "iopub.status.idle": "2023-06-12T13:36:09.008298Z",
     "shell.execute_reply": "2023-06-12T13:36:09.007430Z",
     "shell.execute_reply.started": "2023-06-12T13:36:08.981634Z"
    }
   },
   "outputs": [],
   "source": [
    "# This Python 3 environment comes with many helpful analytics libraries installed\n",
    "# It is defined by the kaggle/python Docker image: https://github.com/kaggle/docker-python\n",
    "# For example, here's several helpful packages to load\n",
    "\n",
    "import numpy as np # linear algebra\n",
    "import pandas as pd # data processing, CSV file I/O (e.g. pd.read_csv)\n",
    "import time # runtime "
   ]
  },
  {
   "cell_type": "code",
   "execution_count": 2,
   "metadata": {
    "execution": {
     "iopub.execute_input": "2023-06-12T13:36:09.010385Z",
     "iopub.status.busy": "2023-06-12T13:36:09.009783Z",
     "iopub.status.idle": "2023-06-12T13:36:09.015448Z",
     "shell.execute_reply": "2023-06-12T13:36:09.014450Z",
     "shell.execute_reply.started": "2023-06-12T13:36:09.010356Z"
    }
   },
   "outputs": [
    {
     "name": "stdout",
     "output_type": "stream",
     "text": [
      "File size:  4.85 gb\n"
     ]
    }
   ],
   "source": [
    "#Size of the file\n",
    "import os\n",
    "print(\"File size: \",round((os.path.getsize('./Data/yelp_academic_dataset_review.csv'))/10**9,2) , \"gb\")"
   ]
  },
  {
   "cell_type": "markdown",
   "metadata": {},
   "source": [
    "### Reading dataset using Pandas"
   ]
  },
  {
   "cell_type": "code",
   "execution_count": 3,
   "metadata": {
    "execution": {
     "iopub.execute_input": "2023-06-12T13:36:09.017551Z",
     "iopub.status.busy": "2023-06-12T13:36:09.016893Z",
     "iopub.status.idle": "2023-06-12T13:37:13.372667Z",
     "shell.execute_reply": "2023-06-12T13:37:13.370577Z",
     "shell.execute_reply.started": "2023-06-12T13:36:09.017500Z"
    }
   },
   "outputs": [
    {
     "name": "stdout",
     "output_type": "stream",
     "text": [
      "Read csv with pandas:  42.5321 sec\n"
     ]
    }
   ],
   "source": [
    "start = time.time()\n",
    "df = pd.read_csv('./Data/yelp_academic_dataset_review.csv')\n",
    "end = time.time()\n",
    "p_time = round(end-start,5)\n",
    "print(\"Read csv with pandas: \",p_time,\"sec\")"
   ]
  },
  {
   "cell_type": "markdown",
   "metadata": {},
   "source": [
    "### Reading dataset using Dask"
   ]
  },
  {
   "cell_type": "code",
   "execution_count": 4,
   "metadata": {
    "execution": {
     "iopub.status.busy": "2023-06-12T13:37:13.373439Z",
     "iopub.status.idle": "2023-06-12T13:37:13.373867Z",
     "shell.execute_reply": "2023-06-12T13:37:13.373697Z",
     "shell.execute_reply.started": "2023-06-12T13:37:13.373678Z"
    }
   },
   "outputs": [
    {
     "name": "stdout",
     "output_type": "stream",
     "text": [
      "Read csv with dask:  0.015 sec\n"
     ]
    }
   ],
   "source": [
    "from dask import dataframe as dd\n",
    "start = time.time()\n",
    "dask_df = dd.read_csv('./Data/yelp_academic_dataset_review.csv')\n",
    "end = time.time()\n",
    "d_time = round(end-start,5)\n",
    "print(\"Read csv with dask: \",d_time,\"sec\")"
   ]
  },
  {
   "cell_type": "markdown",
   "metadata": {},
   "source": [
    "### Reading dataset with Modin and Ray"
   ]
  },
  {
   "cell_type": "code",
   "execution_count": 5,
   "metadata": {
    "execution": {
     "iopub.status.busy": "2023-06-12T13:37:13.375449Z",
     "iopub.status.idle": "2023-06-12T13:37:13.375887Z",
     "shell.execute_reply": "2023-06-12T13:37:13.375721Z",
     "shell.execute_reply.started": "2023-06-12T13:37:13.375701Z"
    }
   },
   "outputs": [
    {
     "name": "stderr",
     "output_type": "stream",
     "text": [
      "2023-06-19 12:33:51,879\tINFO worker.py:1636 -- Started a local Ray instance.\n",
      "UserWarning: When using a pre-initialized Ray cluster, please ensure that the runtime env sets environment variable __MODIN_AUTOIMPORT_PANDAS__ to 1\n"
     ]
    },
    {
     "name": "stdout",
     "output_type": "stream",
     "text": [
      "Read csv with modin and ray:  81.88658 sec\n"
     ]
    }
   ],
   "source": [
    "import modin.pandas as mod\n",
    "import ray\n",
    "ray.shutdown()\n",
    "ray.init()\n",
    "start = time.time()\n",
    "df = mod.read_csv('./Data/yelp_academic_dataset_review.csv')\n",
    "end = time.time()\n",
    "m_r_time = round(end-start,5)\n",
    "print(\"Read csv with modin and ray: \",m_r_time,\"sec\")"
   ]
  },
  {
   "cell_type": "code",
   "execution_count": 6,
   "metadata": {},
   "outputs": [
    {
     "name": "stdout",
     "output_type": "stream",
     "text": [
      "Dask is much faster than Pandas and modin, and ray. with reading time of 0.015\n"
     ]
    }
   ],
   "source": [
    "print('Dask is much faster than Pandas and modin, and ray. with reading time of {}'.format(d_time))"
   ]
  },
  {
   "cell_type": "code",
   "execution_count": 7,
   "metadata": {
    "execution": {
     "iopub.status.busy": "2023-06-12T13:37:13.376925Z",
     "iopub.status.idle": "2023-06-12T13:37:13.377311Z",
     "shell.execute_reply": "2023-06-12T13:37:13.377148Z",
     "shell.execute_reply.started": "2023-06-12T13:37:13.377130Z"
    }
   },
   "outputs": [
    {
     "name": "stdout",
     "output_type": "stream",
     "text": [
      "<class 'dask.dataframe.core.DataFrame'>\n",
      "Columns: 9 entries, user_id to stars\n",
      "dtypes: object(5), float64(1), int64(3)"
     ]
    }
   ],
   "source": [
    "df = dd.read_csv('./Data/yelp_academic_dataset_review.csv',delimiter=',')\n",
    "df.info()\n"
   ]
  },
  {
   "cell_type": "code",
   "execution_count": 8,
   "metadata": {
    "execution": {
     "iopub.status.busy": "2023-06-12T13:37:13.379361Z",
     "iopub.status.idle": "2023-06-12T13:37:13.379925Z",
     "shell.execute_reply": "2023-06-12T13:37:13.379752Z",
     "shell.execute_reply.started": "2023-06-12T13:37:13.379732Z"
    }
   },
   "outputs": [
    {
     "name": "stdout",
     "output_type": "stream",
     "text": [
      "length of rows:6685900 and length of columns:9\n"
     ]
    }
   ],
   "source": [
    "# Number of rows and columns\n",
    "print(\"length of rows:{} and length of columns:{}\".format(len(df.index),len(df.columns)))"
   ]
  },
  {
   "cell_type": "code",
   "execution_count": 9,
   "metadata": {
    "execution": {
     "iopub.status.busy": "2023-06-12T13:37:13.381226Z",
     "iopub.status.idle": "2023-06-12T13:37:13.381631Z",
     "shell.execute_reply": "2023-06-12T13:37:13.381437Z",
     "shell.execute_reply.started": "2023-06-12T13:37:13.381419Z"
    }
   },
   "outputs": [
    {
     "name": "stderr",
     "output_type": "stream",
     "text": [
      "FutureWarning: The default value of regex will change from True to False in a future version.\n"
     ]
    },
    {
     "data": {
      "text/html": [
       "<div>\n",
       "<style scoped>\n",
       "    .dataframe tbody tr th:only-of-type {\n",
       "        vertical-align: middle;\n",
       "    }\n",
       "\n",
       "    .dataframe tbody tr th {\n",
       "        vertical-align: top;\n",
       "    }\n",
       "\n",
       "    .dataframe thead th {\n",
       "        text-align: right;\n",
       "    }\n",
       "</style>\n",
       "<table border=\"1\" class=\"dataframe\">\n",
       "  <thead>\n",
       "    <tr style=\"text-align: right;\">\n",
       "      <th></th>\n",
       "      <th>user_id</th>\n",
       "      <th>text</th>\n",
       "      <th>date</th>\n",
       "      <th>review_id</th>\n",
       "      <th>business_id</th>\n",
       "      <th>funny</th>\n",
       "      <th>cool</th>\n",
       "      <th>useful</th>\n",
       "      <th>stars</th>\n",
       "    </tr>\n",
       "  </thead>\n",
       "  <tbody>\n",
       "    <tr>\n",
       "      <th>0</th>\n",
       "      <td>b'hG7b0MtEbXx5QzbzE6C_VA'</td>\n",
       "      <td>b'Total bill for this horrible service? Over $...</td>\n",
       "      <td>b'2013-05-07 04:34:36'</td>\n",
       "      <td>b'Q1sbwvVQXV2734tPgoKj4Q'</td>\n",
       "      <td>b'ujmEBvifdJM6h6RLv4wQIg'</td>\n",
       "      <td>1</td>\n",
       "      <td>0</td>\n",
       "      <td>6</td>\n",
       "      <td>1.0</td>\n",
       "    </tr>\n",
       "    <tr>\n",
       "      <th>1</th>\n",
       "      <td>b'yXQM5uF2jS6es16SJzNHfg'</td>\n",
       "      <td>b\"I *adore* Travis at the Hard Rock's new Kell...</td>\n",
       "      <td>b'2017-01-14 21:30:33'</td>\n",
       "      <td>b'GJXCdrto3ASJOqKeVWPi6Q'</td>\n",
       "      <td>b'NZnhc2sEQy3RmzKTZnqtwQ'</td>\n",
       "      <td>0</td>\n",
       "      <td>0</td>\n",
       "      <td>0</td>\n",
       "      <td>5.0</td>\n",
       "    </tr>\n",
       "    <tr>\n",
       "      <th>2</th>\n",
       "      <td>b'n6-Gk65cPZL6Uz8qRm3NYw'</td>\n",
       "      <td>b\"I have to say that this office really has it...</td>\n",
       "      <td>b'2016-11-09 20:09:03'</td>\n",
       "      <td>b'2TzJjDVDEuAW6MR5Vuc1ug'</td>\n",
       "      <td>b'WTqjgwHlXbSFevF32_DJVw'</td>\n",
       "      <td>0</td>\n",
       "      <td>0</td>\n",
       "      <td>3</td>\n",
       "      <td>5.0</td>\n",
       "    </tr>\n",
       "    <tr>\n",
       "      <th>3</th>\n",
       "      <td>b'dacAIZ6fTM6mqwW5uxkskg'</td>\n",
       "      <td>b\"Went in for a lunch. Steak sandwich was deli...</td>\n",
       "      <td>b'2018-01-09 20:56:38'</td>\n",
       "      <td>b'yi0R0Ugj_xUx_Nek0-_Qig'</td>\n",
       "      <td>b'ikCg8xy5JIg_NGPx-MSIDA'</td>\n",
       "      <td>0</td>\n",
       "      <td>0</td>\n",
       "      <td>0</td>\n",
       "      <td>5.0</td>\n",
       "    </tr>\n",
       "    <tr>\n",
       "      <th>4</th>\n",
       "      <td>b'ssoyf2_x0EQMed6fgHeMyQ'</td>\n",
       "      <td>b'Today was my second out of three sessions I ...</td>\n",
       "      <td>b'2018-01-30 23:07:38'</td>\n",
       "      <td>b'11a8sVPMUFtaC7_ABRkmtw'</td>\n",
       "      <td>b'b1b1eb3uo-w561D0ZfCEiQ'</td>\n",
       "      <td>0</td>\n",
       "      <td>0</td>\n",
       "      <td>7</td>\n",
       "      <td>1.0</td>\n",
       "    </tr>\n",
       "  </tbody>\n",
       "</table>\n",
       "</div>"
      ],
      "text/plain": [
       "                     user_id  \\\n",
       "0  b'hG7b0MtEbXx5QzbzE6C_VA'   \n",
       "1  b'yXQM5uF2jS6es16SJzNHfg'   \n",
       "2  b'n6-Gk65cPZL6Uz8qRm3NYw'   \n",
       "3  b'dacAIZ6fTM6mqwW5uxkskg'   \n",
       "4  b'ssoyf2_x0EQMed6fgHeMyQ'   \n",
       "\n",
       "                                                text                    date  \\\n",
       "0  b'Total bill for this horrible service? Over $...  b'2013-05-07 04:34:36'   \n",
       "1  b\"I *adore* Travis at the Hard Rock's new Kell...  b'2017-01-14 21:30:33'   \n",
       "2  b\"I have to say that this office really has it...  b'2016-11-09 20:09:03'   \n",
       "3  b\"Went in for a lunch. Steak sandwich was deli...  b'2018-01-09 20:56:38'   \n",
       "4  b'Today was my second out of three sessions I ...  b'2018-01-30 23:07:38'   \n",
       "\n",
       "                   review_id                business_id  funny  cool  useful  \\\n",
       "0  b'Q1sbwvVQXV2734tPgoKj4Q'  b'ujmEBvifdJM6h6RLv4wQIg'      1     0       6   \n",
       "1  b'GJXCdrto3ASJOqKeVWPi6Q'  b'NZnhc2sEQy3RmzKTZnqtwQ'      0     0       0   \n",
       "2  b'2TzJjDVDEuAW6MR5Vuc1ug'  b'WTqjgwHlXbSFevF32_DJVw'      0     0       3   \n",
       "3  b'yi0R0Ugj_xUx_Nek0-_Qig'  b'ikCg8xy5JIg_NGPx-MSIDA'      0     0       0   \n",
       "4  b'11a8sVPMUFtaC7_ABRkmtw'  b'b1b1eb3uo-w561D0ZfCEiQ'      0     0       7   \n",
       "\n",
       "   stars  \n",
       "0    1.0  \n",
       "1    5.0  \n",
       "2    5.0  \n",
       "3    5.0  \n",
       "4    1.0  "
      ]
     },
     "execution_count": 9,
     "metadata": {},
     "output_type": "execute_result"
    }
   ],
   "source": [
    "# remove special character and white spaces\n",
    "df.columns=df.columns.str.replace('[#,@,&]','')\n",
    "df.columns = df.columns.str.replace(' ', '')\n",
    "df.head()"
   ]
  },
  {
   "cell_type": "code",
   "execution_count": 10,
   "metadata": {
    "execution": {
     "iopub.status.busy": "2023-06-12T13:37:13.383219Z",
     "iopub.status.idle": "2023-06-12T13:37:13.384063Z",
     "shell.execute_reply": "2023-06-12T13:37:13.383888Z",
     "shell.execute_reply.started": "2023-06-12T13:37:13.383867Z"
    }
   },
   "outputs": [
    {
     "data": {
      "text/plain": [
       "Index(['user_id', 'text', 'date', 'review_id', 'business_id', 'funny', 'cool',\n",
       "       'useful', 'stars'],\n",
       "      dtype='object')"
      ]
     },
     "execution_count": 10,
     "metadata": {},
     "output_type": "execute_result"
    }
   ],
   "source": [
    "columns = df.columns\n",
    "columns"
   ]
  },
  {
   "cell_type": "code",
   "execution_count": 11,
   "metadata": {
    "execution": {
     "iopub.status.busy": "2023-06-12T13:37:13.387125Z",
     "iopub.status.idle": "2023-06-12T13:37:13.387872Z",
     "shell.execute_reply": "2023-06-12T13:37:13.387693Z",
     "shell.execute_reply.started": "2023-06-12T13:37:13.387672Z"
    }
   },
   "outputs": [
    {
     "name": "stdout",
     "output_type": "stream",
     "text": [
      "Writing testutility.py\n"
     ]
    }
   ],
   "source": [
    "%%writefile testutility.py\n",
    "import logging\n",
    "import os\n",
    "import subprocess\n",
    "import yaml\n",
    "import pandas as pd\n",
    "import datetime \n",
    "import gc\n",
    "import re\n",
    "\n",
    "\n",
    "################\n",
    "# File Reading #\n",
    "################\n",
    "\n",
    "def read_config_file(filepath):\n",
    "    with open(filepath, 'r') as stream:\n",
    "        try:\n",
    "            return yaml.safe_load(stream)\n",
    "        except yaml.YAMLError as exc:\n",
    "            logging.error(exc)\n",
    "\n",
    "\n",
    "def replacer(string, char):\n",
    "    pattern = char + '{2,}'\n",
    "    string = re.sub(pattern, char, string) \n",
    "    return string\n",
    "\n",
    "def col_header_val(df,table_config):\n",
    "    '''\n",
    "    replace whitespaces in the column\n",
    "    and standardized column names\n",
    "    '''\n",
    "    df.columns = df.columns.str.lower()\n",
    "    df.columns = df.columns.str.replace('[^\\w]','_',regex=True)\n",
    "    df.columns = list(map(lambda x: x.strip('_'), list(df.columns)))\n",
    "    df.columns = list(map(lambda x: replacer(x,'_'), list(df.columns)))\n",
    "    expected_col = list(map(lambda x: x.lower(),  table_config['columns']))\n",
    "    expected_col.sort()\n",
    "    df.columns =list(map(lambda x: x.lower(), list(df.columns)))\n",
    "    df = df.reindex(sorted(df.columns), axis=1)\n",
    "    if len(df.columns) == len(expected_col) and list(expected_col)  == list(df.columns):\n",
    "        print(\"column name and column length validation passed\")\n",
    "        return 1\n",
    "    else:\n",
    "        print(\"column name and column length validation failed\")\n",
    "        mismatched_columns_file = list(set(df.columns).difference(expected_col))\n",
    "        print(\"Following File columns are not in the YAML file\",mismatched_columns_file)\n",
    "        missing_YAML_file = list(set(expected_col).difference(df.columns))\n",
    "        print(\"Following YAML columns are not in the file uploaded\",missing_YAML_file)\n",
    "        logging.info(f'df columns: {df.columns}')\n",
    "        logging.info(f'expected columns: {expected_col}')\n",
    "        return 0"
   ]
  },
  {
   "cell_type": "code",
   "execution_count": 12,
   "metadata": {
    "execution": {
     "iopub.status.busy": "2023-06-12T13:37:13.389285Z",
     "iopub.status.idle": "2023-06-12T13:37:13.389710Z",
     "shell.execute_reply": "2023-06-12T13:37:13.389513Z",
     "shell.execute_reply.started": "2023-06-12T13:37:13.389495Z"
    }
   },
   "outputs": [
    {
     "name": "stdout",
     "output_type": "stream",
     "text": [
      "Writing file.yaml\n"
     ]
    }
   ],
   "source": [
    "%%writefile file.yaml\n",
    "columns: \n",
    "    - user_id\n",
    "    - text\n",
    "    - date\n",
    "    - review_id\n",
    "    - business_id\n",
    "    - funny\n",
    "    - cool\n",
    "    - useful\n",
    "    - stars\n",
    "dataset_name: yelp_academic_dataset_review\n",
    "dtypes:\n",
    "    user_id: string\n",
    "    text: string\n",
    "    date: string\n",
    "    review_id: string\n",
    "    business_id: string\n",
    "    funny: float32\n",
    "    cool: float32\n",
    "    useful: float32\n",
    "    stars: float32\n",
    "file_type: csv\n",
    "\n",
    "file_name: data\n",
    "table name: edsurv\n",
    "inbound_delimiter: \",\"\n",
    "outbound_delimiter: \"|\"\n",
    "skip_leading_rows: 1\n"
   ]
  },
  {
   "cell_type": "code",
   "execution_count": 13,
   "metadata": {
    "execution": {
     "iopub.execute_input": "2023-06-12T13:37:24.855118Z",
     "iopub.status.busy": "2023-06-12T13:37:24.854662Z",
     "iopub.status.idle": "2023-06-12T13:37:24.995344Z",
     "shell.execute_reply": "2023-06-12T13:37:24.994241Z",
     "shell.execute_reply.started": "2023-06-12T13:37:24.855083Z"
    }
   },
   "outputs": [],
   "source": [
    "# Read config file\n",
    "import testutility as util\n",
    "config_data = util.read_config_file(\"file.yaml\")"
   ]
  },
  {
   "cell_type": "code",
   "execution_count": 14,
   "metadata": {},
   "outputs": [
    {
     "data": {
      "text/plain": [
       "{'columns': ['user_id',\n",
       "  'text',\n",
       "  'date',\n",
       "  'review_id',\n",
       "  'business_id',\n",
       "  'funny',\n",
       "  'cool',\n",
       "  'useful',\n",
       "  'stars'],\n",
       " 'dataset_name': 'yelp_academic_dataset_review',\n",
       " 'dtypes': {'user_id': 'string',\n",
       "  'text': 'string',\n",
       "  'date': 'string',\n",
       "  'review_id': 'string',\n",
       "  'business_id': 'string',\n",
       "  'funny': 'float32',\n",
       "  'cool': 'float32',\n",
       "  'useful': 'float32',\n",
       "  'stars': 'float32'},\n",
       " 'file_type': 'csv',\n",
       " 'file_name': 'data',\n",
       " 'table name': 'edsurv',\n",
       " 'inbound_delimiter': ',',\n",
       " 'outbound_delimiter': '|',\n",
       " 'skip_leading_rows': 1}"
      ]
     },
     "execution_count": 14,
     "metadata": {},
     "output_type": "execute_result"
    }
   ],
   "source": [
    "#inspecting data of config file\n",
    "config_data"
   ]
  },
  {
   "cell_type": "code",
   "execution_count": 15,
   "metadata": {
    "scrolled": true
   },
   "outputs": [
    {
     "data": {
      "text/html": [
       "<div>\n",
       "<style scoped>\n",
       "    .dataframe tbody tr th:only-of-type {\n",
       "        vertical-align: middle;\n",
       "    }\n",
       "\n",
       "    .dataframe tbody tr th {\n",
       "        vertical-align: top;\n",
       "    }\n",
       "\n",
       "    .dataframe thead th {\n",
       "        text-align: right;\n",
       "    }\n",
       "</style>\n",
       "<table border=\"1\" class=\"dataframe\">\n",
       "  <thead>\n",
       "    <tr style=\"text-align: right;\">\n",
       "      <th></th>\n",
       "      <th>user_id</th>\n",
       "      <th>text</th>\n",
       "      <th>date</th>\n",
       "      <th>review_id</th>\n",
       "      <th>business_id</th>\n",
       "      <th>funny</th>\n",
       "      <th>cool</th>\n",
       "      <th>useful</th>\n",
       "      <th>stars</th>\n",
       "    </tr>\n",
       "  </thead>\n",
       "  <tbody>\n",
       "    <tr>\n",
       "      <th>0</th>\n",
       "      <td>b'hG7b0MtEbXx5QzbzE6C_VA'</td>\n",
       "      <td>b'Total bill for this horrible service? Over $...</td>\n",
       "      <td>b'2013-05-07 04:34:36'</td>\n",
       "      <td>b'Q1sbwvVQXV2734tPgoKj4Q'</td>\n",
       "      <td>b'ujmEBvifdJM6h6RLv4wQIg'</td>\n",
       "      <td>1.0</td>\n",
       "      <td>0.0</td>\n",
       "      <td>6.0</td>\n",
       "      <td>1.0</td>\n",
       "    </tr>\n",
       "    <tr>\n",
       "      <th>1</th>\n",
       "      <td>b'yXQM5uF2jS6es16SJzNHfg'</td>\n",
       "      <td>b\"I *adore* Travis at the Hard Rock's new Kell...</td>\n",
       "      <td>b'2017-01-14 21:30:33'</td>\n",
       "      <td>b'GJXCdrto3ASJOqKeVWPi6Q'</td>\n",
       "      <td>b'NZnhc2sEQy3RmzKTZnqtwQ'</td>\n",
       "      <td>0.0</td>\n",
       "      <td>0.0</td>\n",
       "      <td>0.0</td>\n",
       "      <td>5.0</td>\n",
       "    </tr>\n",
       "    <tr>\n",
       "      <th>2</th>\n",
       "      <td>b'n6-Gk65cPZL6Uz8qRm3NYw'</td>\n",
       "      <td>b\"I have to say that this office really has it...</td>\n",
       "      <td>b'2016-11-09 20:09:03'</td>\n",
       "      <td>b'2TzJjDVDEuAW6MR5Vuc1ug'</td>\n",
       "      <td>b'WTqjgwHlXbSFevF32_DJVw'</td>\n",
       "      <td>0.0</td>\n",
       "      <td>0.0</td>\n",
       "      <td>3.0</td>\n",
       "      <td>5.0</td>\n",
       "    </tr>\n",
       "    <tr>\n",
       "      <th>3</th>\n",
       "      <td>b'dacAIZ6fTM6mqwW5uxkskg'</td>\n",
       "      <td>b\"Went in for a lunch. Steak sandwich was deli...</td>\n",
       "      <td>b'2018-01-09 20:56:38'</td>\n",
       "      <td>b'yi0R0Ugj_xUx_Nek0-_Qig'</td>\n",
       "      <td>b'ikCg8xy5JIg_NGPx-MSIDA'</td>\n",
       "      <td>0.0</td>\n",
       "      <td>0.0</td>\n",
       "      <td>0.0</td>\n",
       "      <td>5.0</td>\n",
       "    </tr>\n",
       "    <tr>\n",
       "      <th>4</th>\n",
       "      <td>b'ssoyf2_x0EQMed6fgHeMyQ'</td>\n",
       "      <td>b'Today was my second out of three sessions I ...</td>\n",
       "      <td>b'2018-01-30 23:07:38'</td>\n",
       "      <td>b'11a8sVPMUFtaC7_ABRkmtw'</td>\n",
       "      <td>b'b1b1eb3uo-w561D0ZfCEiQ'</td>\n",
       "      <td>0.0</td>\n",
       "      <td>0.0</td>\n",
       "      <td>7.0</td>\n",
       "      <td>1.0</td>\n",
       "    </tr>\n",
       "  </tbody>\n",
       "</table>\n",
       "</div>"
      ],
      "text/plain": [
       "                     user_id  \\\n",
       "0  b'hG7b0MtEbXx5QzbzE6C_VA'   \n",
       "1  b'yXQM5uF2jS6es16SJzNHfg'   \n",
       "2  b'n6-Gk65cPZL6Uz8qRm3NYw'   \n",
       "3  b'dacAIZ6fTM6mqwW5uxkskg'   \n",
       "4  b'ssoyf2_x0EQMed6fgHeMyQ'   \n",
       "\n",
       "                                                text                    date  \\\n",
       "0  b'Total bill for this horrible service? Over $...  b'2013-05-07 04:34:36'   \n",
       "1  b\"I *adore* Travis at the Hard Rock's new Kell...  b'2017-01-14 21:30:33'   \n",
       "2  b\"I have to say that this office really has it...  b'2016-11-09 20:09:03'   \n",
       "3  b\"Went in for a lunch. Steak sandwich was deli...  b'2018-01-09 20:56:38'   \n",
       "4  b'Today was my second out of three sessions I ...  b'2018-01-30 23:07:38'   \n",
       "\n",
       "                   review_id                business_id  funny  cool  useful  \\\n",
       "0  b'Q1sbwvVQXV2734tPgoKj4Q'  b'ujmEBvifdJM6h6RLv4wQIg'    1.0   0.0     6.0   \n",
       "1  b'GJXCdrto3ASJOqKeVWPi6Q'  b'NZnhc2sEQy3RmzKTZnqtwQ'    0.0   0.0     0.0   \n",
       "2  b'2TzJjDVDEuAW6MR5Vuc1ug'  b'WTqjgwHlXbSFevF32_DJVw'    0.0   0.0     3.0   \n",
       "3  b'yi0R0Ugj_xUx_Nek0-_Qig'  b'ikCg8xy5JIg_NGPx-MSIDA'    0.0   0.0     0.0   \n",
       "4  b'11a8sVPMUFtaC7_ABRkmtw'  b'b1b1eb3uo-w561D0ZfCEiQ'    0.0   0.0     7.0   \n",
       "\n",
       "   stars  \n",
       "0    1.0  \n",
       "1    5.0  \n",
       "2    5.0  \n",
       "3    5.0  \n",
       "4    1.0  "
      ]
     },
     "execution_count": 15,
     "metadata": {},
     "output_type": "execute_result"
    }
   ],
   "source": [
    "import pandas as pd\n",
    "# read the file using config file\n",
    "file_type = config_data['file_type']\n",
    "source_file = \"./\"+config_data['file_name']+\"/\"+config_data['dataset_name'] + f'.{file_type}'\n",
    "datatypes = config_data['dtypes']\n",
    "\n",
    "# Reading using Pandas\n",
    "df = pd.read_csv(source_file, delimiter=config_data['inbound_delimiter'], dtype=datatypes)\n",
    "df.head()\n",
    "     "
   ]
  },
  {
   "cell_type": "code",
   "execution_count": 16,
   "metadata": {},
   "outputs": [
    {
     "name": "stdout",
     "output_type": "stream",
     "text": [
      "column name and column length validation passed\n"
     ]
    },
    {
     "data": {
      "text/plain": [
       "1"
      ]
     },
     "execution_count": 16,
     "metadata": {},
     "output_type": "execute_result"
    }
   ],
   "source": [
    "#validating the header of the file\n",
    "util.col_header_val(df,config_data)"
   ]
  },
  {
   "cell_type": "code",
   "execution_count": 17,
   "metadata": {},
   "outputs": [
    {
     "name": "stdout",
     "output_type": "stream",
     "text": [
      "columns of files are: Index(['user_id', 'text', 'date', 'review_id', 'business_id', 'funny', 'cool',\n",
      "       'useful', 'stars'],\n",
      "      dtype='object')\n",
      "columns of YAML are: ['user_id', 'text', 'date', 'review_id', 'business_id', 'funny', 'cool', 'useful', 'stars']\n"
     ]
    }
   ],
   "source": [
    "print(\"columns of files are:\" ,df.columns)\n",
    "print(\"columns of YAML are:\" ,config_data['columns'])"
   ]
  },
  {
   "cell_type": "code",
   "execution_count": 18,
   "metadata": {},
   "outputs": [
    {
     "name": "stdout",
     "output_type": "stream",
     "text": [
      "column name and column length validation passed\n",
      "col validation passed\n"
     ]
    }
   ],
   "source": [
    "if util.col_header_val(df,config_data)==0:\n",
    "    print(\"validation failed\")\n",
    "    # write code to reject the file\n",
    "else:\n",
    "    print(\"col validation passed\")\n",
    "    # write the code to perform further action\n",
    "    # in the pipleine"
   ]
  },
  {
   "cell_type": "code",
   "execution_count": 19,
   "metadata": {},
   "outputs": [],
   "source": [
    "import gzip\n",
    "\n",
    "# Write the file in pipe-separated text file (|) in gz format\n",
    "output_file = \"output_data.txt\"\n",
    "df.to_csv(output_file, sep=\"|\", index=False)\n",
    "\n",
    "# Compress the file to gz format\n",
    "compressed_file = \"output_data.txt.gz\"\n",
    "with open(output_file, \"rt\") as f_in:\n",
    "    with gzip.open(compressed_file, \"wt\") as f_out:\n",
    "        f_out.writelines(f_in)"
   ]
  },
  {
   "cell_type": "code",
   "execution_count": null,
   "metadata": {},
   "outputs": [],
   "source": []
  }
 ],
 "metadata": {
  "kernelspec": {
   "display_name": "Python 3 (ipykernel)",
   "language": "python",
   "name": "python3"
  },
  "language_info": {
   "codemirror_mode": {
    "name": "ipython",
    "version": 3
   },
   "file_extension": ".py",
   "mimetype": "text/x-python",
   "name": "python",
   "nbconvert_exporter": "python",
   "pygments_lexer": "ipython3",
   "version": "3.10.9"
  }
 },
 "nbformat": 4,
 "nbformat_minor": 4
}
